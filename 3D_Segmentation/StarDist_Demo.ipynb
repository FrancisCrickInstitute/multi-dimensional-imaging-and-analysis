{
 "cells": [
  {
   "cell_type": "markdown",
   "id": "e55505cc",
   "metadata": {},
   "source": [
    "# This is the StarDist Demo Notebook\n",
    "## For the Crick 3D Segmenation Course, September 2024\n",
    "### Todd Fallesen CALM"
   ]
  },
  {
   "cell_type": "markdown",
   "id": "dd84cf38",
   "metadata": {},
   "source": [
    "# Do the imports of packages\n"
   ]
  },
  {
   "cell_type": "code",
   "execution_count": null,
   "id": "fcb0f51c",
   "metadata": {},
   "outputs": [],
   "source": [
    "from __future__ import print_function, unicode_literals, absolute_import, division\n",
    "import sys\n",
    "import numpy as np\n",
    "import matplotlib\n",
    "matplotlib.rcParams[\"image.interpolation\"] = None\n",
    "import matplotlib.pyplot as plt\n",
    "%matplotlib inline\n",
    "%config InlineBackend.figure_format = 'retina'\n",
    "\n",
    "from glob import glob\n",
    "from tqdm import tqdm\n",
    "from tifffile import imread\n",
    "from csbdeep.utils import Path, normalize\n",
    "from csbdeep.io import save_tiff_imagej_compatible\n",
    "\n",
    "from stardist import fill_label_holes, random_label_cmap, calculate_extents, gputools_available\n",
    "from stardist import Rays_GoldenSpiral\n",
    "from stardist.matching import matching, matching_dataset\n",
    "#from stardist.models import Config3D, StarDist3D, StarDistData3D\n",
    "from skimage import filters\n",
    "from skimage.segmentation import clear_border\n",
    "from skimage.transform import rescale, resize, downscale_local_mean\n",
    "\n",
    "import seaborn as sns\n",
    "import matplotlib.pyplot as plt\n",
    "\n",
    "np.random.seed(42)\n",
    "lbl_cmap = random_label_cmap()\n",
    "\n",
    "import os"
   ]
  },
  {
   "cell_type": "code",
   "execution_count": null,
   "id": "2ded5b1e",
   "metadata": {},
   "outputs": [],
   "source": [
    "from stardist.models import Config3D, StarDist3D, StarDistData3D"
   ]
  },
  {
   "cell_type": "markdown",
   "id": "c2ab624f",
   "metadata": {},
   "source": [
    "# Import data\n",
    "We can either import a single image, or import a group of images\n",
    "We then normalize the images"
   ]
  },
  {
   "cell_type": "code",
   "execution_count": null,
   "id": "d5857eb8",
   "metadata": {},
   "outputs": [],
   "source": [
    "image_path = \"C:\\\\3D_Segmentation\\\\3d_monolayer_xy1_ch2.tif\"\n",
    "#image_path = \"C:\\\\3D_Segmentation\\\\*.tif\" #path where images are\n",
    "save_path = \"C:\\\\3D_Segmentation\\\\output\\\\\""
   ]
  },
  {
   "cell_type": "code",
   "execution_count": null,
   "id": "6ea12e0d",
   "metadata": {},
   "outputs": [],
   "source": [
    "X = sorted(glob(image_path))\n",
    "X = X\n",
    "file_list = []\n",
    "for name in X:\n",
    "    file_list.append(os.path.basename(name))"
   ]
  },
  {
   "cell_type": "code",
   "execution_count": null,
   "id": "3d58e0dd",
   "metadata": {},
   "outputs": [],
   "source": [
    "#Check the files were listed correctly\n",
    "X"
   ]
  },
  {
   "cell_type": "code",
   "execution_count": null,
   "id": "4a3767fb",
   "metadata": {},
   "outputs": [],
   "source": [
    "#read in the images, normalize the images\n",
    "\n",
    "X = [image_path] # put this in a list, so if we want to change this to iterate through multiple images later, it's easier\n",
    "X = list(map(imread,X))\n",
    "n_channel = 1 if X[0].ndim == 3 else X[0].shape[-1]\n",
    "axis_norm = (0,1,2)   # normalize channels independently\n",
    "# axis_norm = (0,1,2,3) # normalize channels jointly\n",
    "if n_channel > 1:\n",
    "    print(\"Normalizing image channels %s.\" % ('jointly' if axis_norm is None or 2 in axis_norm else 'independently'))"
   ]
  },
  {
   "cell_type": "code",
   "execution_count": null,
   "id": "1e934e99",
   "metadata": {},
   "outputs": [],
   "source": [
    "np.shape(X)"
   ]
  },
  {
   "cell_type": "markdown",
   "id": "a69016a3",
   "metadata": {},
   "source": [
    "## Show a test image"
   ]
  },
  {
   "cell_type": "code",
   "execution_count": null,
   "id": "368fbb6c",
   "metadata": {},
   "outputs": [],
   "source": [
    "# show all test images\n",
    "if True:\n",
    "    plt.figure(figsize=(8,5))\n",
    "    plt.imshow(X[0][X[0].shape[0]//2],cmap='gray')\n",
    "None;"
   ]
  },
  {
   "cell_type": "markdown",
   "id": "f7062e8a",
   "metadata": {},
   "source": [
    "# Do any image pre-processing"
   ]
  },
  {
   "cell_type": "code",
   "execution_count": null,
   "id": "56932acd",
   "metadata": {},
   "outputs": [],
   "source": [
    "Do_Rescale = False\n",
    "Do_Gauss = False\n",
    "Do_Median = False\n",
    "\n",
    "sigma = 1\n",
    "rescale_factor = 0.5\n",
    "\n",
    "if Do_Rescale:\n",
    "    for i in range(0,len(X)):\n",
    "        X[i] = rescale(image, (1,rescale_factor, rescale_factor), anti_aliasing=False)\n",
    "\n",
    "if Do_Gauss:\n",
    "    for i in range(0,len(X)):\n",
    "        X[i] = filters.gaussian(X[i], sigma=sigma)\n",
    "        \n",
    "if Do_Median:\n",
    "    for i in range(0,len(X)):\n",
    "        X[i] = filters.median(X[i], sigma=sigma)\n",
    "        \n",
    "\n",
    "# show all test images\n",
    "\n",
    "plt.figure(figsize=(8,5))\n",
    "plt.imshow(X[0][X[0].shape[0]//2],cmap='gray')\n",
    "\n",
    "X[0].shape"
   ]
  },
  {
   "cell_type": "markdown",
   "id": "04ab2c1c",
   "metadata": {},
   "source": [
    "## Set up the StarDist pretrained model"
   ]
  },
  {
   "cell_type": "code",
   "execution_count": null,
   "id": "3b02447f",
   "metadata": {},
   "outputs": [],
   "source": [
    "model_name = '3D_demo'\n",
    "model = StarDist3D.from_pretrained(model_name)"
   ]
  },
  {
   "cell_type": "code",
   "execution_count": null,
   "id": "b599e33c",
   "metadata": {},
   "outputs": [],
   "source": [
    "Automatic_number_of_tiles = True\n",
    "\n",
    "n_tiles_Z =  4\n",
    "n_tiles_Y =  12\n",
    "n_tiles_X =  12\n",
    "\n",
    "if (Automatic_number_of_tiles):\n",
    "    n_tilesZYX = None\n",
    "    n_tilesZYX = model._guess_n_tiles(X[0]) #guesses on the first image\n",
    "\n",
    "\n",
    "if not (Automatic_number_of_tiles):\n",
    "    n_tilesZYX = (n_tiles_Z, n_tiles_Y, n_tiles_X)"
   ]
  },
  {
   "cell_type": "markdown",
   "id": "c5dfe559",
   "metadata": {},
   "source": [
    "# Run stardist\n",
    "\n"
   ]
  },
  {
   "cell_type": "code",
   "execution_count": null,
   "id": "c922a9c2",
   "metadata": {},
   "outputs": [],
   "source": [
    "run_demo = True #this can be True or False # \n",
    "run_series = True #this can be True or False"
   ]
  },
  {
   "cell_type": "code",
   "execution_count": null,
   "id": "03e98ec7",
   "metadata": {},
   "outputs": [],
   "source": [
    "#took 486s for 100mb on laptop.  #This only predicts on the first image in your dataset, and doesn't save it\n",
    "if run_demo:\n",
    "    for image in X:\n",
    "        img = normalize(X[0], 1,99.8, axis=axis_norm) # predict on the first image in the list\n",
    "        labels, details = model.predict_instances(img)\n",
    "else:\n",
    "    print(\"Run Demo wasn't set to true. Run demo didn't run\")"
   ]
  },
  {
   "cell_type": "code",
   "execution_count": null,
   "id": "ac5503a4",
   "metadata": {},
   "outputs": [],
   "source": [
    "if run_demo:\n",
    "    plt.figure(figsize=(13,10))\n",
    "    z = max(0, img.shape[0] // 2 - 5)\n",
    "    plt.subplot(121)\n",
    "    plt.imshow((img if img.ndim==3 else img[...,:3])[z], clim=(0,1), cmap='gray')\n",
    "    plt.title('Raw image (XY slice)')\n",
    "    plt.axis('off')\n",
    "    plt.subplot(122)\n",
    "    plt.imshow((img if img.ndim==3 else img[...,:3])[z], clim=(0,1), cmap='gray')\n",
    "    plt.imshow(labels[z], cmap=lbl_cmap, alpha=0.5)\n",
    "    plt.title('Image and predicted labels (XY slice)')\n",
    "    plt.axis('off');\n",
    "\n",
    "else:\n",
    "    print(\"Run Demo wasn't set to true. Run demo didn't run\")"
   ]
  },
  {
   "cell_type": "code",
   "execution_count": null,
   "id": "c0cde710",
   "metadata": {},
   "outputs": [],
   "source": [
    "if run_series:\n",
    "    print(\"Working on model: \", model_name, \" now\")\n",
    "    save_directory = os.path.join(save_path, model_name)\n",
    "    Path(save_directory).mkdir(parents=True, exist_ok=True)\n",
    "\n",
    "    for i in range(0,len(X)):\n",
    "        img = normalize(X[i], 1,99.8, axis=axis_norm)\n",
    "        labels, polygons = model.predict_instances(img, n_tiles=n_tilesZYX)\n",
    "        print(\"There are :\", np.max(labels), \" labels in \", file_list[i])\n",
    "        save_tiff_imagej_compatible(save_directory+\"/\"+file_list[i][:-4]+'_labels.tif', labels, axes='ZYX')\n",
    "        #the 16 bit doen't work if more than 65k cells. \n",
    "        \n",
    "else:\n",
    "    print(\"Run series wasn't set to true. Your series won't run\")"
   ]
  },
  {
   "cell_type": "code",
   "execution_count": null,
   "id": "0aea6c1f",
   "metadata": {},
   "outputs": [],
   "source": []
  }
 ],
 "metadata": {
  "kernelspec": {
   "display_name": "Crick_IA",
   "language": "python",
   "name": "crick_ia"
  },
  "language_info": {
   "codemirror_mode": {
    "name": "ipython",
    "version": 3
   },
   "file_extension": ".py",
   "mimetype": "text/x-python",
   "name": "python",
   "nbconvert_exporter": "python",
   "pygments_lexer": "ipython3",
   "version": "3.9.13"
  }
 },
 "nbformat": 4,
 "nbformat_minor": 5
}
