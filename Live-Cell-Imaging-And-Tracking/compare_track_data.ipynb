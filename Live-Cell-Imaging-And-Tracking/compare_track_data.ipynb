{
 "cells": [
  {
   "cell_type": "markdown",
   "source": [
    "# Analyse Track Data\n",
    "\n",
    "Plot distributions of metrics from track data exported by TrackMate\n",
    "\n",
    "We begin by importing the necessary packages:"
   ],
   "metadata": {
    "collapsed": false
   },
   "id": "f11d587c8195e229"
  },
  {
   "cell_type": "code",
   "execution_count": null,
   "outputs": [],
   "source": [
    "import matplotlib.pyplot as plt\n",
    "import pandas as pd"
   ],
   "metadata": {
    "collapsed": false
   },
   "id": "initial_id"
  },
  {
   "cell_type": "markdown",
   "source": [
    "Specify the location of the exported TrackMate data and read it using pandas, to provide DataFrames:"
   ],
   "metadata": {
    "collapsed": false
   },
   "id": "af598d3b7d3d8170"
  },
  {
   "cell_type": "code",
   "execution_count": null,
   "outputs": [],
   "source": [
    "file_path_0 = 'Z:/working/Training/2024-Crick Microscopy Course/Live imaging/trial data/Prelim_analysis_2/Pos0/FUCCI_LEDpower_Jul24_2_MMStack_Pos0_tracks.csv'\n",
    "data0 = pd.read_csv(file_path_0, skiprows=[1, 2, 3])\n",
    "data0['POSITION'] = 0\n",
    "file_path_7 = 'Z:/working/Training/2024-Crick Microscopy Course/Live imaging/trial data/Prelim_analysis_2/Pos7/FUCCI_LEDpower_Jul24_2_MMStack_Pos7_tracks.csv'\n",
    "data7 = pd.read_csv(file_path_7, skiprows=[1, 2, 3])\n",
    "data7['POSITION'] = 7"
   ],
   "metadata": {
    "collapsed": false
   },
   "id": "b8ad6b5a5ae98a04"
  },
  {
   "cell_type": "markdown",
   "source": [
    "Use matplotlib to generate a histogram:"
   ],
   "metadata": {
    "collapsed": false
   },
   "id": "49cbf6d4d5acb3e9"
  },
  {
   "cell_type": "code",
   "execution_count": null,
   "outputs": [],
   "source": [
    "%matplotlib inline\n",
    "#plt.figure(figsize=(6.0, 5.0), dpi=300)\n",
    "plt.hist(data0['TRACK_MEAN_SPEED'], bins=40, range=(0.004, 0.008), alpha=0.7, label='Pos0', histtype='barstacked')\n",
    "plt.hist(data7['TRACK_MEAN_SPEED'], bins=40, range=(0.004, 0.008), alpha=0.7, label='Pos7', histtype='barstacked')\n",
    "plt.xlabel(\"Mean Cell Velocity (\\u03BCm/s)\")\n",
    "plt.ylabel(\"Number of Cells\")\n",
    "plt.legend()\n",
    "plt.show()"
   ],
   "metadata": {
    "collapsed": false
   },
   "id": "d198c645af963916"
  }
 ],
 "metadata": {
  "kernelspec": {
   "display_name": "Python 3",
   "language": "python",
   "name": "python3"
  },
  "language_info": {
   "codemirror_mode": {
    "name": "ipython",
    "version": 2
   },
   "file_extension": ".py",
   "mimetype": "text/x-python",
   "name": "python",
   "nbconvert_exporter": "python",
   "pygments_lexer": "ipython2",
   "version": "2.7.6"
  }
 },
 "nbformat": 4,
 "nbformat_minor": 5
}
