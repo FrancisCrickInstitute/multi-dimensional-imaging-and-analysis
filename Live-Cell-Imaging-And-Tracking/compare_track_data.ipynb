{
 "cells": [
  {
   "cell_type": "markdown",
   "source": [
    "# Analyse TrackMate Data\n",
    "\n",
    "This is a simple notebook designed to plot and compare track data produced using [TrackMate](https://imagej.net/plugins/trackmate/) (or similar software).\n",
    "\n",
    "We begin by importing the necessary packages:"
   ],
   "metadata": {
    "collapsed": false
   },
   "id": "f11d587c8195e229"
  },
  {
   "cell_type": "code",
   "execution_count": null,
   "outputs": [],
   "source": [
    "import glob\n",
    "import re\n",
    "import os\n",
    "\n",
    "import matplotlib.pyplot as plt\n",
    "import pandas as pd\n",
    "import seaborn as sns"
   ],
   "metadata": {
    "collapsed": false,
    "is_executing": true
   },
   "id": "initial_id"
  },
  {
   "cell_type": "markdown",
   "source": [
    "Now we specify the location of the exported TrackMate data (`INPUT_DIR`) and metric we want to plot (`METRIC_OF_INTEREST`):"
   ],
   "metadata": {
    "collapsed": false
   },
   "id": "af598d3b7d3d8170"
  },
  {
   "cell_type": "code",
   "execution_count": null,
   "outputs": [],
   "source": [
    "METRIC_OF_INTEREST = 'TRACK_MEAN_SPEED'\n",
    "INPUT_DIR = './TrackMate_Outputs'"
   ],
   "metadata": {
    "collapsed": false
   },
   "id": "618a2de156c29161"
  },
  {
   "cell_type": "markdown",
   "source": [
    "The next cell checks to make sure that the `INPUT_DIR` specified above actually exists"
   ],
   "metadata": {
    "collapsed": false
   },
   "id": "b0e7738eeb564c99"
  },
  {
   "cell_type": "code",
   "execution_count": null,
   "outputs": [],
   "source": [
    "valid_input = False\n",
    "\n",
    "if os.path.exists(INPUT_DIR):\n",
    "    print(f'{INPUT_DIR} is a valid directory - well done you!')\n",
    "    valid_input = True\n",
    "else:\n",
    "    print(f'{INPUT_DIR} does not exist - check that the path is correct')"
   ],
   "metadata": {
    "collapsed": false
   },
   "id": "b8ad6b5a5ae98a04"
  },
  {
   "cell_type": "markdown",
   "source": [
    "Now we look for `*_Pos*_tracks.csv` files in the input directory. Your data must be saved using the following folder structure in order for this to work:\n",
    "\n",
    "![Folder_Structure](./assets/folder_structure.PNG)\n",
    "\n",
    "It doesn't matter how many `Pos#` subdirectories there are within the `TrackMate_Outputs` parent directory shown above - the script should find all of them."
   ],
   "metadata": {
    "collapsed": false
   },
   "id": "3d0846eff8af52ba"
  },
  {
   "cell_type": "code",
   "execution_count": null,
   "outputs": [],
   "source": [
    "if valid_input:\n",
    "    file_paths = glob.glob(f'{INPUT_DIR}/Pos*/*_Pos*_tracks.csv')\n",
    "    \n",
    "    print(f'{len(file_paths)} valid CSV files found in {INPUT_DIR}')\n",
    "    \n",
    "    if len(file_paths) < 1:\n",
    "        print(f'Are you sure {INPUT_DIR} is the folder that contains your TrackMate data?')\n",
    "    \n",
    "    position_labels = []\n",
    "    datasets = []\n",
    "    \n",
    "    # Regex to extract position number from file name\n",
    "    position_pattern = re.compile(r'_Pos(\\d+)_')\n",
    "else:\n",
    "    print(f'{INPUT_DIR} does not exist - check that the path is correct')"
   ],
   "metadata": {
    "collapsed": false
   },
   "id": "c8a8bbf8aa7d92bd"
  },
  {
   "cell_type": "markdown",
   "source": [
    "[Pandas](https://pandas.pydata.org/) is a Python data analysis library, particularly well-suited to working with the kind of tabular data that TrackMate produces. Here, we load data from the `*_Pos*_tracks.csv` CSV files using pandas:"
   ],
   "metadata": {
    "collapsed": false
   },
   "id": "595e15f56e250a6a"
  },
  {
   "cell_type": "code",
   "execution_count": null,
   "outputs": [],
   "source": [
    "for file_path in file_paths:\n",
    "    # Extract position number from file name\n",
    "    match = position_pattern.search(file_path)\n",
    "    position_num = -1\n",
    "    if match:\n",
    "        position_num = int(match.group(1))\n",
    "        position_labels.append(position_num)\n",
    "\n",
    "    data = pd.read_csv(file_path, skiprows=[1, 2, 3])\n",
    "    datasets.append(data[METRIC_OF_INTEREST].values)"
   ],
   "metadata": {
    "collapsed": false
   },
   "id": "f535ac4f921cade4"
  },
  {
   "cell_type": "markdown",
   "source": [
    "[Matplotlib](https://matplotlib.org/) is a library for creating data visualisations in Python. Here, we use matplotlib to generate frequency distributions:"
   ],
   "metadata": {
    "collapsed": false
   },
   "id": "49cbf6d4d5acb3e9"
  },
  {
   "cell_type": "code",
   "execution_count": null,
   "outputs": [],
   "source": [
    "if len(datasets) > 0:\n",
    "    %matplotlib inline\n",
    "    plt.figure(figsize=(12, 6))\n",
    "    \n",
    "    plt.hist(datasets, bins=40, range=(0.004, 0.008), alpha=0.7,\n",
    "             label=[f'Pos {pos}' for pos in position_labels])\n",
    "    plt.xlabel(METRIC_OF_INTEREST)\n",
    "    plt.ylabel(\"Number of Cells\")\n",
    "    plt.legend()\n",
    "    plt.show()\n",
    "else:\n",
    "    print('No data was found in the cells above - there''s nothing to plot!')"
   ],
   "metadata": {
    "collapsed": false
   },
   "id": "d198c645af963916"
  },
  {
   "cell_type": "markdown",
   "source": [
    "[Seaborn](https://seaborn.pydata.org/) is a Python data visualisation library based on matplotlib. Here, we use seaborn to generate a swarmplot:"
   ],
   "metadata": {
    "collapsed": false
   },
   "id": "6390681285275561"
  },
  {
   "cell_type": "code",
   "execution_count": null,
   "outputs": [],
   "source": [
    "if len(datasets) > 0:\n",
    "    # Boxplot and Swarmplot\n",
    "    fig, ax = plt.subplots(figsize=(12, 6))\n",
    "    sns.boxplot(data=datasets, color='white', showfliers=False, ax=ax, linewidth=2)\n",
    "    sns.swarmplot(data=datasets, size=4, alpha=0.9, ax=ax)\n",
    "    \n",
    "    # Set the ticks and labels\n",
    "    ax.set_xticks(range(len(position_labels)))  # Ensure the number of ticks matches the number of labels\n",
    "    ax.set_xticklabels(position_labels)\n",
    "    \n",
    "    ax.set_ylabel(METRIC_OF_INTEREST)\n",
    "    ax.set_xlabel('Position')\n",
    "    plt.show()\n",
    "else:\n",
    "    print('No data was found in the cells above - there''s nothing to plot!')"
   ],
   "metadata": {
    "collapsed": false
   },
   "id": "2b8272b5bdfb9ba2"
  }
 ],
 "metadata": {
  "kernelspec": {
   "display_name": "Python 3",
   "language": "python",
   "name": "python3"
  },
  "language_info": {
   "codemirror_mode": {
    "name": "ipython",
    "version": 2
   },
   "file_extension": ".py",
   "mimetype": "text/x-python",
   "name": "python",
   "nbconvert_exporter": "python",
   "pygments_lexer": "ipython2",
   "version": "2.7.6"
  }
 },
 "nbformat": 4,
 "nbformat_minor": 5
}
