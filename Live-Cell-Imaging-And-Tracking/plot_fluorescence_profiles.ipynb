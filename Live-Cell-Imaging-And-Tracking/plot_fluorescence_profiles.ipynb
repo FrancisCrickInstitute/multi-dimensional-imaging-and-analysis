{
 "cells": [
  {
   "cell_type": "markdown",
   "id": "94efdae29c60ee2a",
   "metadata": {
    "collapsed": false
   },
   "source": [
    "# Plot Fluorescence Data\n",
    "\n",
    "Plot fluorescence profiles from cell tracks exported by TrackMate\n",
    "\n",
    "We begin by importing the necessary packages:"
   ]
  },
  {
   "cell_type": "code",
   "execution_count": null,
   "id": "6c88d116757aab2",
   "metadata": {
    "collapsed": false
   },
   "outputs": [],
   "source": [
    "import random\n",
    "\n",
    "import matplotlib.pyplot as plt\n",
    "import pandas as pd"
   ]
  },
  {
   "cell_type": "markdown",
   "id": "848a89ebf5e4e4fd",
   "metadata": {
    "collapsed": false
   },
   "source": [
    "Load the data and sort it:"
   ]
  },
  {
   "cell_type": "code",
   "execution_count": null,
   "id": "b67e70d8ab03ec69",
   "metadata": {
    "collapsed": false
   },
   "outputs": [],
   "source": [
    "file_path = 'Z:/working/Training/2024-Crick Microscopy Course/Live imaging/trial data/Prelim_analysis_2/Pos0/FUCCI_LEDpower_Jul24_2_MMStack_Pos0_spots.csv'\n",
    "data = pd.read_csv(file_path, skiprows=[1, 2, 3])\n",
    "data.sort_values(by=['TRACK_ID', 'FRAME'], ignore_index=True, inplace=True)"
   ]
  },
  {
   "cell_type": "markdown",
   "id": "792bf0083754b1cb",
   "metadata": {
    "collapsed": false
   },
   "source": [
    "Extract the relevant columns:"
   ]
  },
  {
   "cell_type": "code",
   "execution_count": null,
   "id": "9e30c26bc6d3662e",
   "metadata": {
    "collapsed": false
   },
   "outputs": [],
   "source": [
    "intensity_data = data[['FRAME', 'TRACK_ID', 'MEAN_INTENSITY_CH2', 'MEAN_INTENSITY_CH3']]"
   ]
  },
  {
   "cell_type": "markdown",
   "id": "4ac3701c8c1c7d02",
   "metadata": {
    "collapsed": false
   },
   "source": [
    "Select some tracks at random:"
   ]
  },
  {
   "cell_type": "code",
   "execution_count": null,
   "id": "ee51b9502a922616",
   "metadata": {
    "collapsed": false
   },
   "outputs": [],
   "source": [
    "num_samples = 1  # Number of tracks to plot\n",
    "random_tracks = random.sample(list(intensity_data['TRACK_ID'].unique()), num_samples)"
   ]
  },
  {
   "cell_type": "markdown",
   "id": "e2b26706cd9b30ef",
   "metadata": {
    "collapsed": false
   },
   "source": [
    "Plot the selected fluorescence profiles"
   ]
  },
  {
   "cell_type": "code",
   "execution_count": null,
   "id": "68e493368b368ff2",
   "metadata": {
    "collapsed": false
   },
   "outputs": [],
   "source": [
    "%matplotlib inline\n",
    "#plt.figure(figsize=(12, 6))\n",
    "for track in random_tracks:\n",
    "    track_data = intensity_data[intensity_data['TRACK_ID'] == track]\n",
    "    plt.scatter(track_data['FRAME'], track_data['MEAN_INTENSITY_CH2'], label=f'TRACK_ID {track} - C2', alpha=0.7)\n",
    "    plt.scatter(track_data['FRAME'], track_data['MEAN_INTENSITY_CH3'], label=f'TRACK_ID {track} - C3', alpha=0.7)\n",
    "\n",
    "plt.xlabel('Frame')\n",
    "plt.ylabel('Intensity')\n",
    "plt.legend()\n",
    "plt.show()"
   ]
  }
 ],
 "metadata": {
  "kernelspec": {
   "display_name": "Python 3 (ipykernel)",
   "language": "python",
   "name": "python3"
  },
  "language_info": {
   "codemirror_mode": {
    "name": "ipython",
    "version": 3
   },
   "file_extension": ".py",
   "mimetype": "text/x-python",
   "name": "python",
   "nbconvert_exporter": "python",
   "pygments_lexer": "ipython3",
   "version": "3.12.4"
  }
 },
 "nbformat": 4,
 "nbformat_minor": 5
}
