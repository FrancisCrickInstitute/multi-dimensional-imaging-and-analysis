{
 "cells": [
  {
   "cell_type": "markdown",
   "id": "94efdae29c60ee2a",
   "metadata": {
    "collapsed": false
   },
   "source": [
    "# Plot Fluorescence Data\n",
    "\n",
    "Plot fluorescence profiles from cell tracks exported by TrackMate\n",
    "\n",
    "We begin by importing the necessary packages:"
   ]
  },
  {
   "cell_type": "code",
   "execution_count": null,
   "id": "6c88d116757aab2",
   "metadata": {
    "collapsed": false
   },
   "outputs": [],
   "source": [
    "import random\n",
    "\n",
    "import matplotlib.pyplot as plt\n",
    "import pandas as pd\n",
    "import glob"
   ]
  },
  {
   "cell_type": "markdown",
   "id": "848a89ebf5e4e4fd",
   "metadata": {
    "collapsed": false
   },
   "source": [
    "Load the data and sort it:"
   ]
  },
  {
   "cell_type": "code",
   "execution_count": null,
   "outputs": [],
   "source": [
    "# Constants\n",
    "POSITION = 0\n",
    "NUM_TRACKS = 4  # Number of tracks to plot; set to None or 0 to plot all tracks\n",
    "INPUT_DIR = 'C:/Users/barryd/Downloads/Demo_Data/TrackMate_outputs'\n",
    "\n",
    "file_paths = glob.glob(f'{INPUT_DIR}/Pos{POSITION}/*_Pos{POSITION}_spots.csv')\n",
    "\n",
    "# Read and preprocess data\n",
    "data = pd.read_csv(file_paths[0], skiprows=[1, 2, 3])\n",
    "data.sort_values(by=['TRACK_ID', 'FRAME'], ignore_index=True, inplace=True)"
   ],
   "metadata": {
    "collapsed": false
   },
   "id": "b67e70d8ab03ec69"
  },
  {
   "cell_type": "markdown",
   "id": "792bf0083754b1cb",
   "metadata": {
    "collapsed": false
   },
   "source": [
    "Extract the relevant columns:"
   ]
  },
  {
   "cell_type": "code",
   "execution_count": null,
   "id": "9e30c26bc6d3662e",
   "metadata": {
    "collapsed": false
   },
   "outputs": [],
   "source": [
    "intensity_data = data[['FRAME', 'TRACK_ID', 'MEAN_INTENSITY_CH2', 'MEAN_INTENSITY_CH3']]\n",
    "unique_tracks = intensity_data['TRACK_ID'].unique()"
   ]
  },
  {
   "cell_type": "markdown",
   "id": "4ac3701c8c1c7d02",
   "metadata": {
    "collapsed": false
   },
   "source": [
    "Select some tracks at random:"
   ]
  },
  {
   "cell_type": "code",
   "execution_count": null,
   "id": "ee51b9502a922616",
   "metadata": {
    "collapsed": false
   },
   "outputs": [],
   "source": [
    "# Check NUM_TRACKS does not exceed available tracks\n",
    "if NUM_TRACKS is None or NUM_TRACKS <= 0:\n",
    "    selected_tracks = unique_tracks\n",
    "else:\n",
    "    NUM_TRACKS = min(NUM_TRACKS, len(unique_tracks))\n",
    "    selected_tracks = random.sample(list(unique_tracks), NUM_TRACKS)"
   ]
  },
  {
   "cell_type": "markdown",
   "id": "e2b26706cd9b30ef",
   "metadata": {
    "collapsed": false
   },
   "source": [
    "Plot the selected fluorescence profiles"
   ]
  },
  {
   "cell_type": "code",
   "execution_count": null,
   "id": "68e493368b368ff2",
   "metadata": {
    "collapsed": false
   },
   "outputs": [],
   "source": [
    "# Determine layout for subplots\n",
    "num_cols = 2  # Number of columns for subplots\n",
    "num_rows = (len(selected_tracks) + num_cols - 1) // num_cols  # Calculate number of rows needed\n",
    "\n",
    "fig, axes = plt.subplots(num_rows, num_cols, figsize=(12, 6 * num_rows))\n",
    "axes = axes.flatten()  # Flatten in case of a grid, even if it's a single row or column\n",
    "\n",
    "for i, track in enumerate(selected_tracks):\n",
    "    ax = axes[i]\n",
    "    track_data = intensity_data[intensity_data['TRACK_ID'] == track]\n",
    "    ax.scatter(track_data['FRAME'], track_data['MEAN_INTENSITY_CH2'], label=f'C2', alpha=0.7)\n",
    "    ax.scatter(track_data['FRAME'], track_data['MEAN_INTENSITY_CH3'], label=f'C3', alpha=0.7)\n",
    "    ax.set_title(f'Position {POSITION} - Track {track}')\n",
    "    ax.set_xlabel('Frame')\n",
    "    ax.set_ylabel('Intensity')\n",
    "    ax.legend()\n",
    "\n",
    "# Hide any empty subplots\n",
    "for j in range(i + 1, len(axes)):\n",
    "    fig.delaxes(axes[j])\n",
    "\n",
    "plt.show()"
   ]
  }
 ],
 "metadata": {
  "kernelspec": {
   "display_name": "Python 3 (ipykernel)",
   "language": "python",
   "name": "python3"
  },
  "language_info": {
   "codemirror_mode": {
    "name": "ipython",
    "version": 3
   },
   "file_extension": ".py",
   "mimetype": "text/x-python",
   "name": "python",
   "nbconvert_exporter": "python",
   "pygments_lexer": "ipython3",
   "version": "3.12.4"
  }
 },
 "nbformat": 4,
 "nbformat_minor": 5
}
