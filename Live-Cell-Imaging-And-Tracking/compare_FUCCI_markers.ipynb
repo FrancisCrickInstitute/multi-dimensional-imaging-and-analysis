{
 "cells": [
  {
   "cell_type": "markdown",
   "source": [
    "# Analyse FUCCI data\n",
    "\n",
    "Analyse FUCCI fluorescence data exported by TrackMate\n",
    "\n",
    "We begin by importing the necessary packages:"
   ],
   "metadata": {
    "collapsed": false
   },
   "id": "759891d2aeff1f58"
  },
  {
   "cell_type": "code",
   "execution_count": null,
   "outputs": [],
   "source": [
    "import glob\n",
    "import re  # Import the regular expression module\n",
    "import os\n",
    "import matplotlib.pyplot as plt\n",
    "import numpy as np\n",
    "import pandas as pd\n",
    "import seaborn as sns"
   ],
   "metadata": {
    "collapsed": false
   },
   "id": "fbbeff71e7337c99"
  },
  {
   "cell_type": "markdown",
   "source": [
    "We then define some variables we'll be using later. The `INPUT_DIR` is checked to ensure it is a valid path. "
   ],
   "metadata": {
    "collapsed": false
   },
   "id": "97ecd1a1027fc205"
  },
  {
   "cell_type": "code",
   "execution_count": null,
   "outputs": [],
   "source": [
    "# Define constants\n",
    "COLORS = ('blue', 'grey', 'orange', 'green', 'yellow')\n",
    "FRAME_DURATION = 2\n",
    "THRESHOLD = 0.05\n",
    "WINDOW = 50\n",
    "INPUT_DIR = './TrackMate_Outputs'\n",
    "valid_input = False\n",
    "\n",
    "if os.path.exists(INPUT_DIR):\n",
    "    print(f'{INPUT_DIR} is a valid directory - well done you!')\n",
    "    valid_input = True\n",
    "else:\n",
    "    print(f'{INPUT_DIR} does not exist - check that the path is correct')"
   ],
   "metadata": {
    "collapsed": false
   },
   "id": "6e1c75ce06fb9f1c"
  },
  {
   "cell_type": "markdown",
   "source": [
    "Next we define a function that we will use to detect a drop in fluorescence intensity:"
   ],
   "metadata": {
    "collapsed": false
   },
   "id": "6fcc6aad187e6e22"
  },
  {
   "cell_type": "code",
   "execution_count": null,
   "outputs": [],
   "source": [
    "# Function to find the frame with the steepest fall in intensity\n",
    "def find_steep_fall_frame(intensity_values, threshold=THRESHOLD, window=WINDOW):\n",
    "    max_fall = 0\n",
    "    fall_frame = None\n",
    "\n",
    "    for i in range(len(intensity_values) - window):\n",
    "        fall = (intensity_values[i] - intensity_values[i + window]) / intensity_values[i]\n",
    "        if fall > max_fall:\n",
    "            max_fall = fall\n",
    "            fall_frame = i\n",
    "\n",
    "    return fall_frame if max_fall >= threshold else None"
   ],
   "metadata": {
    "collapsed": false
   },
   "id": "f02d7c8f7be28d6"
  },
  {
   "cell_type": "markdown",
   "source": [
    "The `file_paths` variables holds the paths to all the source data we want to analyse, while the `frame_differences_all` variables will hold the resultant data that we are interested in plotting:"
   ],
   "metadata": {
    "collapsed": false
   },
   "id": "9c4a6ab4e54bb51"
  },
  {
   "cell_type": "code",
   "execution_count": null,
   "outputs": [],
   "source": [
    "# Regex to extract position number from file name\n",
    "position_pattern = re.compile(r'_Pos(\\d+)_')\n",
    "frame_differences_all = []\n",
    "position_labels = []\n",
    "file_paths = []\n",
    "if valid_input:\n",
    "    # Glob the file paths\n",
    "    file_paths = glob.glob(f'{INPUT_DIR}/Pos*/*_Pos*_spots.csv')\n",
    "    \n",
    "    print(f'{len(file_paths)} valid CSV files found in {INPUT_DIR}')\n",
    "    \n",
    "    if len(file_paths) < 1:\n",
    "        print(f'Are you sure {INPUT_DIR} is the folder that contains your TrackMate data?')\n",
    "else:\n",
    "    print(f'{INPUT_DIR} does not exist - check that the path is correct')"
   ],
   "metadata": {
    "collapsed": false
   },
   "id": "f402c291486aa46a"
  },
  {
   "cell_type": "markdown",
   "source": [
    "The following loop does a number of things:\n",
    "1. For each file path specified above, the dataset is read and relevant intensity data extracted\n",
    "2. Within the next `for` loop, drops in fluorescence intensity are detected in each channel and the time difference between these drops calculated\n",
    "3. Some summary statistics on the frame difference data is printed to the console"
   ],
   "metadata": {
    "collapsed": false
   },
   "id": "4bf761777bad7caf"
  },
  {
   "cell_type": "code",
   "execution_count": null,
   "outputs": [],
   "source": [
    "if len(file_paths) < 1:\n",
    "    print('No valid files found in cells above. No data to output here.')\n",
    "    \n",
    "for file_path in file_paths:\n",
    "    # Extract position number from file name\n",
    "    match = position_pattern.search(file_path)\n",
    "    position_num = -1\n",
    "    if match:\n",
    "        position_num = int(match.group(1))\n",
    "        position_labels.append(position_num)\n",
    "        \n",
    "    data = pd.read_csv(file_path, skiprows=[1, 2, 3])\n",
    "    data.sort_values(by=['TRACK_ID', 'FRAME'], ignore_index=True, inplace=True)\n",
    "    intensity_data = data[['FRAME', 'TRACK_ID', 'MEAN_INTENSITY_CH2', 'MEAN_INTENSITY_CH3']]\n",
    "    unique_tracks = intensity_data['TRACK_ID'].unique()\n",
    "    \n",
    "    frame_differences = []\n",
    "    for track in unique_tracks:\n",
    "        track_data = intensity_data[intensity_data['TRACK_ID'] == track]\n",
    "        frames = track_data['FRAME'].values\n",
    "        intensity_values_C2 = track_data['MEAN_INTENSITY_CH2'].values\n",
    "        intensity_values_C3 = track_data['MEAN_INTENSITY_CH3'].values\n",
    "        \n",
    "        fall_frame_C3 = find_steep_fall_frame(intensity_values_C3)\n",
    "        fall_frame_C2 = find_steep_fall_frame(intensity_values_C2)\n",
    "\n",
    "        if fall_frame_C3 is not None and fall_frame_C2 is not None:\n",
    "            frame_difference = (frames[fall_frame_C2] - frames[fall_frame_C3]) * FRAME_DURATION\n",
    "            if frame_difference >= 0:\n",
    "                frame_differences.append(frame_difference)\n",
    "    \n",
    "    frame_differences_all.append(frame_differences)\n",
    "    \n",
    "    # Output the statistics\n",
    "    print(f\"Mean Frame Difference (Pos {position_num}): {np.mean(frame_differences):.2f}\")\n",
    "    print(f\"Median Frame Difference (Pos {position_num}): {np.median(frame_differences):.2f}\")\n",
    "    print(f\"Standard Deviation of Frame Difference (Pos {position_num}): {np.std(frame_differences):.2f}\")"
   ],
   "metadata": {
    "collapsed": false
   },
   "id": "2540377fb51d244d"
  },
  {
   "cell_type": "markdown",
   "source": [
    "Finally, we plot the resulting distributions:"
   ],
   "metadata": {
    "collapsed": false
   },
   "id": "d5e5324dc6ce79e7"
  },
  {
   "cell_type": "code",
   "execution_count": null,
   "outputs": [],
   "source": [
    "if len(frame_differences_all) > 0:\n",
    "    # Plotting\n",
    "    %matplotlib inline\n",
    "    plt.figure(figsize=(12, 6))\n",
    "    \n",
    "    plt.hist(frame_differences_all, bins=20, range=(0, 800), color=COLORS[:len(frame_differences_all)], alpha=0.7, density=True,\n",
    "             label=[f'Pos {pos}' for pos in position_labels])\n",
    "    plt.xlabel('Time between G1/S-phase & M/G1-phase Transitions (mins)')\n",
    "    plt.ylabel('Normalized Frequency')\n",
    "    plt.legend()\n",
    "    plt.show()\n",
    "else:\n",
    "    print('No data was found in the cells above - there''s nothing to plot!')"
   ],
   "metadata": {
    "collapsed": false
   },
   "id": "e3b69f85b3fda6d2"
  },
  {
   "cell_type": "code",
   "execution_count": null,
   "outputs": [],
   "source": [
    "if len(frame_differences_all) > 0:\n",
    "    # Boxplot and Swarmplot\n",
    "    fig, ax = plt.subplots(figsize=(12, 6))\n",
    "    sns.boxplot(data=frame_differences_all, color='white', showfliers=False, ax=ax, linewidth=2)\n",
    "    sns.swarmplot(data=frame_differences_all, palette=COLORS[:len(frame_differences_all)], size=4, alpha=0.9, ax=ax)\n",
    "    \n",
    "    # Set the ticks and labels\n",
    "    ax.set_xticks(range(len(position_labels)))  # Ensure the number of ticks matches the number of labels\n",
    "    ax.set_xticklabels(position_labels)\n",
    "    \n",
    "    ax.set_ylabel('Time between G1/S-phase & M/G1-phase Transitions (mins)')\n",
    "    ax.set_xlabel('Position')\n",
    "    plt.show()\n",
    "else:\n",
    "    print('No data was found in the cells above - there''s nothing to plot!')"
   ],
   "metadata": {
    "collapsed": false
   },
   "id": "d85991ae12df7107"
  }
 ],
 "metadata": {
  "kernelspec": {
   "display_name": "Python 3",
   "language": "python",
   "name": "python3"
  },
  "language_info": {
   "codemirror_mode": {
    "name": "ipython",
    "version": 2
   },
   "file_extension": ".py",
   "mimetype": "text/x-python",
   "name": "python",
   "nbconvert_exporter": "python",
   "pygments_lexer": "ipython2",
   "version": "2.7.6"
  }
 },
 "nbformat": 4,
 "nbformat_minor": 5
}
